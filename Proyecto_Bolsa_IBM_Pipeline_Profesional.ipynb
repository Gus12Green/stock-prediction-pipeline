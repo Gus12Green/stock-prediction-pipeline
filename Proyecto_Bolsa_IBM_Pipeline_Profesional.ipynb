{
 "cells": [
  {
   "cell_type": "markdown",
   "id": "f239c3b4",
   "metadata": {},
   "source": [
    "# 📈 Stock Market Project with Alpha Vantage and Professional Pipeline"
   ]
  },
  {
   "cell_type": "markdown",
   "id": "60cd73c0",
   "metadata": {},
   "source": [
    "This notebook performs analysis and prediction of stock closing prices using data from Alpha Vantage. It includes both a classic approach and a professional version using `Pipeline` and custom `Transformer` classes from `scikit-learn`."
   ]
  },
  {
   "cell_type": "code",
   "execution_count": null,
   "id": "53706ad1",
   "metadata": {},
   "outputs": [],
   "source": [
    "import requests\n",
    "import pandas as pd\n",
    "import numpy as np\n",
    "import matplotlib.pyplot as plt\n",
    "from sklearn.linear_model import LinearRegression\n",
    "from sklearn.pipeline import Pipeline\n",
    "from sklearn.model_selection import train_test_split, cross_val_score\n",
    "from sklearn.base import BaseEstimator, TransformerMixin\n",
    "from sklearn.metrics import mean_absolute_error, mean_squared_error, r2_score\n",
    "import warnings\n",
    "warnings.filterwarnings(\"ignore\")\n"
   ]
  },
  {
   "cell_type": "markdown",
   "id": "c9f56839",
   "metadata": {},
   "source": [
    "## 🔗 Data loading from Alpha Vantage"
   ]
  },
  {
   "cell_type": "code",
   "execution_count": null,
   "id": "fef0444f",
   "metadata": {},
   "outputs": [],
   "source": [
    "API_KEY = \"J0N6NNX7NU6OUTWW\"\n",
    "symbol = \"IBM\"\n",
    "interval = \"5min\"\n",
    "outputsize = \"full\"\n",
    "function = \"TIME_SERIES_INTRADAY\"\n",
    "url = f\"https://www.alphavantage.co/query?function={function}&symbol={symbol}&interval={interval}&outputsize={outputsize}&apikey={API_KEY}\"\n",
    "\n",
    "response = requests.get(url)\n",
    "data = response.json()\n",
    "df = pd.DataFrame.from_dict(data[f'Time Series ({interval})'], orient='index')\n",
    "df.index = pd.to_datetime(df.index)\n",
    "df.columns = ['Open', 'High', 'Low', 'Close', 'Volume']\n",
    "df = df.astype(float)\n",
    "df.sort_index(inplace=True)\n"
   ]
  },
  {
   "cell_type": "markdown",
   "id": "3b25020e",
   "metadata": {},
   "source": [
    "## 🧹 Classic preprocessing"
   ]
  },
  {
   "cell_type": "code",
   "execution_count": null,
   "id": "c316f4f2",
   "metadata": {},
   "outputs": [],
   "source": [
    "df['Return'] = df['Close'].pct_change()\n",
    "df['SMA_5'] = df['Close'].rolling(window=5).mean()\n",
    "df['SMA_10'] = df['Close'].rolling(window=10).mean()\n",
    "df['Target'] = df['Close'].shift(-1)\n",
    "df.dropna(inplace=True)\n"
   ]
  },
  {
   "cell_type": "markdown",
   "id": "ff838d17",
   "metadata": {},
   "source": [
    "## 🔀 Train / test split"
   ]
  },
  {
   "cell_type": "code",
   "execution_count": null,
   "id": "618b5825",
   "metadata": {},
   "outputs": [],
   "source": [
    "features = ['Open', 'High', 'Low', 'Close', 'Volume', 'SMA_5', 'SMA_10']\n",
    "X = df[features]\n",
    "y = df['Target']\n",
    "X_train, X_test, y_train, y_test = train_test_split(X, y, shuffle=False, test_size=0.2)\n"
   ]
  },
  {
   "cell_type": "markdown",
   "id": "b471e9fb",
   "metadata": {},
   "source": [
    "## 🤖 Classic model: LinearRegression"
   ]
  },
  {
   "cell_type": "code",
   "execution_count": null,
   "id": "1ef689b5",
   "metadata": {},
   "outputs": [],
   "source": [
    "model = LinearRegression()\n",
    "model.fit(X_train, y_train)\n",
    "y_pred = model.predict(X_test)\n",
    "\n",
    "mae = mean_absolute_error(y_test, y_pred)\n",
    "rmse = mean_squared_error(y_test, y_pred) ** 0.5\n",
    "r2 = r2_score(y_test, y_pred)\n",
    "\n",
    "print(f\"MAE: {mae:.4f}\")\n",
    "print(f\"RMSE: {rmse:.4f}\")\n",
    "print(f\"R²: {r2:.4f}\")\n"
   ]
  },
  {
   "cell_type": "markdown",
   "id": "9b0a086d",
   "metadata": {},
   "source": [
    "## 🧩 Pipeline with custom Transformer"
   ]
  },
  {
   "cell_type": "code",
   "execution_count": null,
   "id": "861d51d7",
   "metadata": {},
   "outputs": [],
   "source": [
    "class AddSMA(BaseEstimator, TransformerMixin):\n",
    "    def __init__(self, window=5):\n",
    "        self.window = window\n",
    "\n",
    "    def fit(self, X, y=None):\n",
    "        return self\n",
    "\n",
    "    def transform(self, X):\n",
    "        X_ = X.copy()\n",
    "        X_[f'SMA_{self.window}'] = X_['Close'].rolling(window=self.window).mean()\n",
    "        return X_\n"
   ]
  },
  {
   "cell_type": "code",
   "execution_count": null,
   "id": "4d9c2df5",
   "metadata": {},
   "outputs": [],
   "source": [
    "X_train_transformed = AddSMA(window=5).fit_transform(X_train)\n",
    "valid_idx = X_train_transformed.dropna().index\n",
    "X_train_clean = X_train_transformed.loc[valid_idx]\n",
    "y_train_clean = y_train.loc[valid_idx]\n",
    "\n",
    "pipeline = Pipeline([\n",
    "    ('model', LinearRegression())\n",
    "])\n",
    "pipeline.fit(X_train_clean, y_train_clean)\n",
    "\n",
    "X_test_transformed = AddSMA(window=5).fit_transform(X_test).dropna()\n",
    "y_test_aligned = y_test.loc[X_test_transformed.index]\n",
    "y_pred_pipe = pipeline.predict(X_test_transformed)\n",
    "\n",
    "mae_pipe = mean_absolute_error(y_test_aligned, y_pred_pipe)\n",
    "rmse_pipe = mean_squared_error(y_test_aligned, y_pred_pipe) ** 0.5\n",
    "r2_pipe = r2_score(y_test_aligned, y_pred_pipe)\n",
    "\n",
    "print(f\"[PIPELINE] MAE: {mae_pipe:.4f}\")\n",
    "print(f\"[PIPELINE] RMSE: {rmse_pipe:.4f}\")\n",
    "print(f\"[PIPELINE] R²: {r2_pipe:.4f}\")\n"
   ]
  },
  {
   "cell_type": "code",
   "execution_count": null,
   "id": "23d98d95",
   "metadata": {},
   "outputs": [],
   "source": [
    "cv_scores = cross_val_score(\n",
    "    pipeline, \n",
    "    X_train_clean, \n",
    "    y_train_clean, \n",
    "    cv=5, \n",
    "    scoring='r2'\n",
    ")\n",
    "\n",
    "print(\"📊 Validación cruzada (R²):\")\n",
    "print(f\"Scores: {cv_scores}\")\n",
    "print(f\"Media: {cv_scores.mean():.4f}\")\n",
    "print(f\"Desviación estándar: {cv_scores.std():.4f}\")"
   ]
  },
  {
   "cell_type": "markdown",
   "id": "54542fe4",
   "metadata": {},
   "source": [
    "## 🔮 Future price prediction"
   ]
  },
  {
   "cell_type": "code",
   "execution_count": null,
   "id": "ef2dbb73",
   "metadata": {},
   "outputs": [],
   "source": [
    "future_predictions = []\n",
    "future_df = df.copy()\n",
    "\n",
    "for _ in range(12):\n",
    "    last_row = future_df.iloc[-1:].copy()\n",
    "    new_index = last_row.index[-1] + pd.Timedelta(\"5min\")\n",
    "\n",
    "    recent = future_df[['Close']].copy()\n",
    "    sma_5 = recent['Close'].rolling(window=5).mean().iloc[-1]\n",
    "    sma_10 = recent['Close'].rolling(window=10).mean().iloc[-1]\n",
    "\n",
    "    X_input = pd.DataFrame({\n",
    "        'Open': [last_row['Open'].values[0]],\n",
    "        'High': [last_row['High'].values[0]],\n",
    "        'Low': [last_row['Low'].values[0]],\n",
    "        'Close': [last_row['Close'].values[0]],\n",
    "        'Volume': [last_row['Volume'].values[0]],\n",
    "        'SMA_5': [sma_5],\n",
    "        'SMA_10': [sma_10]\n",
    "    }, index=[new_index])\n",
    "\n",
    "    y_pred = pipeline.predict(X_input)[0]\n",
    "    future_predictions.append(y_pred)\n",
    "\n",
    "    new_row = pd.DataFrame({\n",
    "        'Open': [last_row['Open'].values[0]],\n",
    "        'High': [last_row['High'].values[0]],\n",
    "        'Low': [last_row['Low'].values[0]],\n",
    "        'Close': [y_pred],\n",
    "        'Volume': [last_row['Volume'].values[0]],\n",
    "        'Return': [np.nan],\n",
    "        'SMA_5': [sma_5],\n",
    "        'SMA_10': [sma_10],\n",
    "        'Target': [np.nan]\n",
    "    }, index=[new_index])\n",
    "\n",
    "    future_df = pd.concat([future_df, new_row])\n",
    "\n",
    "ultimo_timestamp = df.index[-1]\n",
    "\n",
    "future_timestamps = [ultimo_timestamp + pd.Timedelta(minutes=5 * (i + 1)) for i in range(len(future_predictions))]\n",
    "\n",
    "for ts, pred in zip(future_timestamps, future_predictions):\n",
    "    print(f\"{ts.strftime('%Y-%m-%d %H:%M')}: ${pred:.2f}\")"
   ]
  },
  {
   "cell_type": "code",
   "execution_count": null,
   "id": "45aa7a8f",
   "metadata": {},
   "outputs": [],
   "source": [
    "df_pred = pd.DataFrame({\n",
    "    \"timestamp\": future_timestamps,\n",
    "    \"prediction\": future_predictions\n",
    "})\n",
    "\n",
    "df_pred.to_pickle(\"predictions.pkl\")\n",
    "\n",
    "!streamlit run dashboard.py"
   ]
  }
 ],
 "metadata": {
  "kernelspec": {
   "display_name": "Python 3",
   "language": "python",
   "name": "python3"
  },
  "language_info": {
   "codemirror_mode": {
    "name": "ipython",
    "version": 3
   },
   "file_extension": ".py",
   "mimetype": "text/x-python",
   "name": "python",
   "nbconvert_exporter": "python",
   "pygments_lexer": "ipython3",
   "version": "3.12.4"
  }
 },
 "nbformat": 4,
 "nbformat_minor": 5
}
